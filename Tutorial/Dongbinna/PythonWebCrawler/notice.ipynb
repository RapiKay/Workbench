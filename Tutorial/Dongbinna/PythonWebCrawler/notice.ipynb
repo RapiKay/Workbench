{
 "metadata": {
  "language_info": {
   "codemirror_mode": {
    "name": "ipython",
    "version": 3
   },
   "file_extension": ".py",
   "mimetype": "text/x-python",
   "name": "python",
   "nbconvert_exporter": "python",
   "pygments_lexer": "ipython3",
   "version": "3.8.5"
  },
  "orig_nbformat": 2,
  "kernelspec": {
   "name": "python385jvsc74a57bd03dad34c87085e35783d123da3782381febbcc3fd851787d2caf2a9e228e0a0e4",
   "display_name": "Python 3.8.5 64-bit"
  }
 },
 "nbformat": 4,
 "nbformat_minor": 2,
 "cells": [
  {
   "cell_type": "code",
   "execution_count": 2,
   "metadata": {},
   "outputs": [
    {
     "output_type": "stream",
     "name": "stdout",
     "text": [
      "자바 기초 프로그래밍 강좌를 완강했습니다.\n컴잘알에 오신 것을 환영합니다.\n"
     ]
    }
   ],
   "source": [
    "import requests\n",
    "from bs4 import BeautifulSoup\n",
    "\n",
    "#특정 URL에 접속하는 요청(Request) 객체를 생성\n",
    "request = requests.get(\"http://www.dowellcomputer.com/main.jsp\")\n",
    "\n",
    "#접속한 이후의 웹 사이트 소스코드를 추출\n",
    "html = request.text\n",
    "\n",
    "#HTML 소스코드를 파이썬 객체로 변환\n",
    "soup = BeautifulSoup(html, 'html.parser')\n",
    "\n",
    "# <a> 태그 포함하는 요소를 추출\n",
    "links = soup.select('td > a')\n",
    "\n",
    "#모든 링크에 하나씩 접근\n",
    "for link in links:\n",
    "    #링크가 href 속성을 가지고 있다면\n",
    "    if link.has_attr('href'):\n",
    "        #href 속성의 값으로 notice 라는 문자열이 포함되어 있다면\n",
    "        if link.get('href').find('notice') != -1:\n",
    "            print(link.text)"
   ]
  },
  {
   "cell_type": "code",
   "execution_count": null,
   "metadata": {},
   "outputs": [],
   "source": []
  }
 ]
}